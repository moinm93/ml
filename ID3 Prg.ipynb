{
 "cells": [
  {
   "cell_type": "code",
   "execution_count": 4,
   "id": "09048db5-a3b1-4765-80fe-fea70e40704f",
   "metadata": {},
   "outputs": [
    {
     "name": "stdout",
     "output_type": "stream",
     "text": [
      "     Outlook  Temp Humidity   Windy PlayTennis\n",
      "0      sunny   hot     high    Weak         no\n",
      "1      sunny   hot     high  Strong         no\n",
      "2   overcast   hot     high    Weak        yes\n",
      "3      rainy  mild     high    Weak        yes\n",
      "4      rainy  cool   normal    Weak        yes\n",
      "6   overcast  cool   normal  Strong        yes\n",
      "7      sunny  mild     high    Weak         no\n",
      "8      sunny  cool   normal    Weak        yes\n",
      "9      rainy  mild   normal    Weak        yes\n",
      "10     sunny  mild   normal  Strong        yes\n",
      "11  overcast  mild     high  Strong        yes\n",
      "12  overcast   hot   normal    Weak        yes\n",
      "13     rainy  mild     high  Strong         no\n",
      "{'Humidity': {'high': {'Outlook': {'overcast': 'yes', 'rainy': {'Windy': {'Strong': 'no', 'Weak': 'yes'}}, 'sunny': 'no'}}, 'normal': 'yes'}}\n",
      "{'Outlook': 'rainy', 'Temp': 'cool', 'Humidity': 'normal', 'Windy': 'Strong', 'PlayTennis': 'no'} => no\n"
     ]
    }
   ],
   "source": [
    "import numpy as np\n",
    "import pandas as pd\n",
    "def entropy(target_col):\n",
    "    val,counts = np.unique(target_col,return_counts = True)\n",
    "    ent = sum( (-counts[i]/np.sum(counts)) * np.log2( counts[i]/np.sum(counts) )\n",
    "        for i in range(len(val)))\n",
    "    return ent\n",
    "\n",
    "def infoGain(data,features,target):\n",
    "    te = entropy(data[target])\n",
    "    val,counts = np.unique(data[features],return_counts = True)\n",
    "    eg = sum((counts[i]/sum(counts)) * entropy(data[data[features] == val[i]][target] )\n",
    "        for i in range(len(val)))\n",
    "    InfoGain = te-eg\n",
    "    return InfoGain\n",
    "\n",
    "def ID3(data,features,target,pnode):\n",
    "    if len(np.unique(data[target])) == 1:\n",
    "        return np.unique(data[target])[0]\n",
    "    elif len(features) == 0:\n",
    "        return pnode\n",
    "    else:\n",
    "        pnode = np.unique(data[target])[np.argmax(np.unique(data[target])[1])]\n",
    "        IG = [infoGain(data,f,target) for f in features]\n",
    "        index = np.argmax(IG)\n",
    "        col = features[index]\n",
    "        tree = {col:{}}\n",
    "        features = [f for f in features if f!=col]\n",
    "        for val in np.unique(data[col]):\n",
    "            sub_data = data[data[col]==val].dropna()\n",
    "            subtree = ID3(sub_data,features,target,pnode)\n",
    "            tree[col][val] = subtree\n",
    "    return tree\n",
    "\n",
    "data = pd.read_csv('PlayTennis.csv')\n",
    "testData = data.sample(frac = 0.1)\n",
    "data.drop(testData.index,inplace = True)\n",
    "print(data)\n",
    "target = 'PlayTennis'\n",
    "features = data.columns[data.columns!=target]\n",
    "tree = ID3(data,features,target,None)\n",
    "print (tree)\n",
    "test = testData.to_dict('records')[0]\n",
    "print(test,'=>', test['PlayTennis'])"
   ]
  },
  {
   "cell_type": "code",
   "execution_count": null,
   "id": "f816d95e-9c79-4ee7-bb47-aa7e3e47d546",
   "metadata": {},
   "outputs": [],
   "source": []
  }
 ],
 "metadata": {
  "kernelspec": {
   "display_name": "Python 3 (ipykernel)",
   "language": "python",
   "name": "python3"
  },
  "language_info": {
   "codemirror_mode": {
    "name": "ipython",
    "version": 3
   },
   "file_extension": ".py",
   "mimetype": "text/x-python",
   "name": "python",
   "nbconvert_exporter": "python",
   "pygments_lexer": "ipython3",
   "version": "3.10.1"
  }
 },
 "nbformat": 4,
 "nbformat_minor": 5
}
